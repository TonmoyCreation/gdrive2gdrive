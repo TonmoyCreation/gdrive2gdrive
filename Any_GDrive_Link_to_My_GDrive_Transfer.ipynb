{
  "nbformat": 4,
  "nbformat_minor": 0,
  "metadata": {
    "colab": {
      "name": "Any GDrive Link to My GDrive Transfer.ipynb",
      "provenance": [],
      "authorship_tag": "ABX9TyPZQS7GVrNPnyQWkX4Zthm5",
      "include_colab_link": true
    },
    "kernelspec": {
      "name": "python3",
      "display_name": "Python 3"
    },
    "language_info": {
      "name": "python"
    }
  },
  "cells": [
    {
      "cell_type": "markdown",
      "metadata": {
        "id": "view-in-github",
        "colab_type": "text"
      },
      "source": [
        "<a href=\"https://colab.research.google.com/github/kiron0/gdrive2gdrive/blob/main/Any_GDrive_Link_to_My_GDrive_Transfer.ipynb\" target=\"_parent\"><img src=\"https://colab.research.google.com/assets/colab-badge.svg\" alt=\"Open In Colab\"/></a>"
      ]
    },
    {
      "cell_type": "markdown",
      "metadata": {
        "id": "JsIhExzdOMW2"
      },
      "source": [
        "# Any GDrive Link to My GDrive Transferer"
      ]
    },
    {
      "cell_type": "markdown",
      "metadata": {
        "id": "tk309kyCOXmP"
      },
      "source": [
        "# <br><center><img src='https://i.imgur.com/7A8LzMs.jpg' height=\"200\" alt=\"Toufiq Hasan Kiron\"/></center>\n",
        "\n",
        "# <center>ALL CODE BY [**Toufiq Hasan Kiron**](https://facebook.com/toufiqhasankiron) :)<br><br>\n",
        "#<center><h1>Any GDrive Link to My GDrive Transferer :)</h1></center>\n",
        "<center > :) DON'T TRY TO COPY MY CODE :) </center>"
      ]
    },
    {
      "cell_type": "code",
      "metadata": {
        "cellView": "form",
        "id": "qrS-ej8QNPgl"
      },
      "source": [
        "#@markdown <br><center><h2> RUN THIS CELL TO MOUNT YOUR GOOGLE DRIVE</h2></center></br>\n",
        "MODE = \"MOUNT\" #@param [\"MOUNT\", \"UNMOUNT\"]\n",
        "from google.colab import drive\n",
        "drive.mount('/content/drive', force_remount=True)"
      ],
      "execution_count": null,
      "outputs": []
    },
    {
      "cell_type": "markdown",
      "metadata": {
        "id": "S4fKW3BSPEMf"
      },
      "source": [
        "### If you just want to transfer a single file, then don't include the \"forward slash\" which I forced you to put in the CELL for the folder transfer."
      ]
    },
    {
      "cell_type": "code",
      "metadata": {
        "id": "yWPpmnXGO2eN"
      },
      "source": [
        "!sudo cp -r -v \"Target! File Shortcut Path/\" \"Enter Your Location Path To Transfer\""
      ],
      "execution_count": null,
      "outputs": []
    }
  ]
}